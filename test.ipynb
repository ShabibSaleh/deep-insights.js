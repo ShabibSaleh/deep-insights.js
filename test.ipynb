{
  "nbformat": 4,
  "nbformat_minor": 0,
  "metadata": {
    "colab": {
      "provenance": [],
      "toc_visible": true,
      "authorship_tag": "ABX9TyO16NPV/14YKYtU4POnP7CN",
      "include_colab_link": true
    },
    "kernelspec": {
      "name": "python3",
      "display_name": "Python 3"
    },
    "language_info": {
      "name": "python"
    }
  },
  "cells": [
    {
      "cell_type": "markdown",
      "metadata": {
        "id": "view-in-github",
        "colab_type": "text"
      },
      "source": [
        "<a href=\"https://colab.research.google.com/github/ShabibSaleh/deep-insights.js/blob/master/test.ipynb\" target=\"_parent\"><img src=\"https://colab.research.google.com/assets/colab-badge.svg\" alt=\"Open In Colab\"/></a>"
      ]
    },
    {
      "cell_type": "code",
      "execution_count": null,
      "metadata": {
        "id": "kwwbMs9ZT_aZ"
      },
      "outputs": [],
      "source": []
    },
    {
      "cell_type": "markdown",
      "source": [
        "**Pre-Requisite**"
      ],
      "metadata": {
        "id": "GCQc7sovU1yT"
      }
    },
    {
      "cell_type": "code",
      "source": [
        "# Define the IQ range for the shaded area\n",
        "iq_range = (90, 120)\n",
        "\n",
        "# Calculate the normal distribution CDF values for the IQ range\n",
        "cdf_90 = norm.cdf(iq_range[0], mu, sigma)\n",
        "cdf_120 = norm.cdf(iq_range[1], mu, sigma)\n",
        "area_between = cdf_120 - cdf_90\n",
        "\n",
        "# Plot the normal distribution\n",
        "fig, ax = plt.subplots()\n",
        "\n",
        "# Plot the normal distribution curve\n",
        "ax.plot(x, y, label=f'Normal(100,15)')\n",
        "\n",
        "# Shade the area between IQ 90 and 120\n",
        "ax.fill_between(x, y, where=((x >= iq_range[0]) & (x <= iq_range[1])), color='blue', alpha=0.5)\n",
        "\n",
        "# Annotate the shaded area with the calculated probability\n",
        "ax.annotate(f'{area_between:.2%}', xy=((iq_range[0]+iq_range[1])/2, 0), xytext=((iq_range[0]+iq_range[1])/2, 0.01),\n",
        "            horizontalalignment='center', verticalalignment='bottom')\n",
        "\n",
        "# Draw vertical lines to denote the IQ range\n",
        "ax.axvline(x=iq_range[0], color='black', linestyle='--')\n",
        "ax.axvline(x=iq_range[1], color='black', linestyle='--')\n",
        "\n",
        "# Annotate the IQ values\n",
        "ax.text(iq_range[0], 0.002, f'{iq_range[0]}', horizontalalignment='center')\n",
        "ax.text(iq_range[1], 0.002, f'{iq_range[1]}', horizontalalignment='center')\n",
        "\n",
        "# Set labels and title\n",
        "ax.set_xlabel('IQ')\n",
        "ax.set_ylabel('Probability Density')\n",
        "ax.set_title('Normal Distribution (IQ Range 90-120)')\n",
        "\n",
        "# Add a legend\n",
        "ax.legend()\n",
        "\n",
        "# Display the graph\n",
        "plt.show()\n"
      ],
      "metadata": {
        "id": "8t8h1KF-U8S1"
      },
      "execution_count": null,
      "outputs": []
    }
  ]
}